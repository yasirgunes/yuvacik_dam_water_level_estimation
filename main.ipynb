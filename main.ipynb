{
 "cells": [
  {
   "cell_type": "code",
   "execution_count": 9,
   "metadata": {},
   "outputs": [
    {
     "name": "stdout",
     "output_type": "stream",
     "text": [
      "Baraj Seviyesi 366\n"
     ]
    }
   ],
   "source": [
    "import requests\n",
    "import re, json\n",
    "from bs4 import BeautifulSoup\n",
    "yil = 2024\n",
    "url = \"https://www.izmitsu.com.tr/teknikveri.php?yil=\" + str(yil)\n",
    "\n",
    "response = requests.get(url, headers=None)\n",
    "html = response.text\n",
    "\n",
    "# 1. grab the <script> text\n",
    "soup = BeautifulSoup(html, \"html.parser\")\n",
    "js = next(s for s in soup.find_all(\"script\") if \"series:\" in s.text).string\n",
    "\n",
    "# 2. extract the series array\n",
    "m = re.search(r\"series\\s*:\\s*(\\[\\s*\\{[\\s\\S]*?\\}\\s*\\])\", js)\n",
    "series_txt = m.group(1)\n",
    "\n",
    "# 3. normalize JS → JSON\n",
    "series_txt = series_txt.replace(\"'\", '\"')\n",
    "\n",
    "# quote unquoted keys (name, data, etc.)\n",
    "series_txt = re.sub(r'([{\\[,]\\s*)([A-Za-z0-9_]+)\\s*:', r'\\1\"\\2\":', series_txt)\n",
    "\n",
    "# remove any trailing commas before ] or }\n",
    "series_txt = re.sub(r\",\\s*([\\]}])\", r\"\\1\", series_txt)\n",
    "\n",
    "# 4. parse\n",
    "series = json.loads(series_txt)\n",
    "\n",
    "print(series[0][\"name\"], len(series[0][\"data\"]))\n"
   ]
  }
 ],
 "metadata": {
  "kernelspec": {
   "display_name": "Python 3",
   "language": "python",
   "name": "python3"
  },
  "language_info": {
   "codemirror_mode": {
    "name": "ipython",
    "version": 3
   },
   "file_extension": ".py",
   "mimetype": "text/x-python",
   "name": "python",
   "nbconvert_exporter": "python",
   "pygments_lexer": "ipython3",
   "version": "3.10.10"
  }
 },
 "nbformat": 4,
 "nbformat_minor": 2
}
